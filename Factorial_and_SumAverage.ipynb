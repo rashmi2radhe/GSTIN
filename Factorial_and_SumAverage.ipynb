{
  "nbformat": 4,
  "nbformat_minor": 0,
  "metadata": {
    "colab": {
      "provenance": []
    },
    "kernelspec": {
      "name": "python3",
      "display_name": "Python 3"
    },
    "language_info": {
      "name": "python"
    }
  },
  "cells": [
    {
      "cell_type": "markdown",
      "source": [
        "AUTHOR : RASHMI MISHRA,\n",
        "DEPARTMENT OF COMPUTER SCIENCE,\n",
        "ATMA RAM SANATAN DHARM COLLEGE, UNIVERSITY OF DELHI"
      ],
      "metadata": {
        "id": "a9_ZcU11LCc4"
      }
    },
    {
      "cell_type": "markdown",
      "source": [
        "FACTORIAL"
      ],
      "metadata": {
        "id": "sEyU1k4oK4CV"
      }
    },
    {
      "cell_type": "code",
      "execution_count": 7,
      "metadata": {
        "id": "duJwMpnDJhmw"
      },
      "outputs": [],
      "source": [
        "#Factorial Calculator: Write a Python program that calculates the factorial of a given number."
      ]
    },
    {
      "cell_type": "code",
      "source": [
        "def factorial(n):\n",
        "    if n == 0:\n",
        "        return 1\n",
        "    else:\n",
        "        return n * factorial(n - 1)"
      ],
      "metadata": {
        "id": "DFwtlaDjJ9Vg"
      },
      "execution_count": 8,
      "outputs": []
    },
    {
      "cell_type": "code",
      "source": [
        "num = int(input(\"Enter a number to calculate its factorial: \"))\n",
        "if num < 0:\n",
        "        print(\"Factorial is not defined for negative numbers.\")\n",
        "else:\n",
        "        result = factorial(num)\n",
        "        print(f\"The factorial of {num} is {result}\")"
      ],
      "metadata": {
        "colab": {
          "base_uri": "https://localhost:8080/"
        },
        "id": "1kN9oxJ4KEv6",
        "outputId": "d0a8f640-7055-4d3d-e048-b0038422337f"
      },
      "execution_count": 9,
      "outputs": [
        {
          "output_type": "stream",
          "name": "stdout",
          "text": [
            "Enter a number to calculate its factorial: 5\n",
            "The factorial of 5 is 120\n"
          ]
        }
      ]
    },
    {
      "cell_type": "markdown",
      "source": [
        "AVERAGE AND SUM"
      ],
      "metadata": {
        "id": "JIPWwXazKwmb"
      }
    },
    {
      "cell_type": "code",
      "source": [
        "#Sum and Average:Create a function that takes a list of numbers as input and returns the sum and average of those numbers."
      ],
      "metadata": {
        "id": "4m37TWZFKNKM"
      },
      "execution_count": 10,
      "outputs": []
    },
    {
      "cell_type": "code",
      "source": [
        "def calculate_sum_and_average(numbers):\n",
        "    if len(numbers) == 0:\n",
        "        return None, None\n",
        "\n",
        "    total = sum(numbers)\n",
        "    average = total / len(numbers)\n",
        "\n",
        "    return total, average"
      ],
      "metadata": {
        "id": "aaNu4EBcKfQF"
      },
      "execution_count": 11,
      "outputs": []
    },
    {
      "cell_type": "code",
      "source": [
        "input_string = input(\"Enter a list of numbers separated by spaces: \")\n",
        "input_list = [float(x) for x in input_string.split()]\n",
        "\n",
        "total, average = calculate_sum_and_average(input_list)\n",
        "\n",
        "if total is not None and average is not None:\n",
        "    print(f\"Sum: {total}\")\n",
        "    print(f\"Average: {average}\")\n",
        "else:\n",
        "    print(\"The list is empty.\")"
      ],
      "metadata": {
        "colab": {
          "base_uri": "https://localhost:8080/"
        },
        "id": "5swOnIsiKj6-",
        "outputId": "dd4b0c40-408b-4718-c8d9-f34a1d654a4a"
      },
      "execution_count": 12,
      "outputs": [
        {
          "output_type": "stream",
          "name": "stdout",
          "text": [
            "Enter a list of numbers separated by spaces: 20 10 30 40 50\n",
            "Sum: 150.0\n",
            "Average: 30.0\n"
          ]
        }
      ]
    }
  ]
}